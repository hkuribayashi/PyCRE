{
 "cells": [
  {
   "cell_type": "code",
   "execution_count": null,
   "metadata": {
    "collapsed": true
   },
   "outputs": [],
   "source": [
    "\n",
    "import numpy as np\n",
    "\n",
    "from config.network import Network\n",
    "from mobility.basic import Point\n",
    "from network.bs import BS\n",
    "from network.hetnet import HetNet\n",
    "from network.ue import UE\n",
    "\n",
    "# Instantiate a Hetnet using Default Configs\n",
    "from rl.env import Environment\n",
    "from rl.agent import Agent\n",
    "\n",
    "h = HetNet(Network.DEFAULT)\n",
    "\n",
    "# Deploy a MBS\n",
    "p0 = Point(0.0, 0.0, 35.0)\n",
    "mbs = BS(0, 'MBS', p0)\n",
    "\n",
    "# Deploy a SBS\n",
    "p1 = Point(50.0, 50.0, 5.0)\n",
    "sbs = BS(2, 'SBS', p1)\n",
    "\n",
    "# Add each BS in the Hetnet\n",
    "h.add_bs(mbs)\n",
    "h.add_bs(sbs)\n",
    "\n",
    "# Deploy 20 UEs\n",
    "for i in range(10):\n",
    "    x = np.random.randint(30, 80)\n",
    "    y = np.random.randint(30, 80)\n",
    "    p_i = Point(x, y, 5.0)\n",
    "    ue = UE(i, p_i)\n",
    "    h.add_ue(ue)\n",
    "\n",
    "for i in range(10, 32):\n",
    "    x = np.random.randint(-100, 100)\n",
    "    y = np.random.randint(-100, 100)\n",
    "    p_i = Point(x, y, 5.0)\n",
    "    ue = UE(i, p_i)\n",
    "    h.add_ue(ue)\n",
    "\n",
    "env = Environment(h)\n",
    "a = Agent(env)\n",
    "a.run()\n",
    "a.get_statistics()"
   ]
  }
 ],
 "metadata": {
  "kernelspec": {
   "display_name": "Python 3",
   "language": "python",
   "name": "python3"
  },
  "language_info": {
   "codemirror_mode": {
    "name": "ipython",
    "version": 2
   },
   "file_extension": ".py",
   "mimetype": "text/x-python",
   "name": "python",
   "nbconvert_exporter": "python",
   "pygments_lexer": "ipython2",
   "version": "2.7.6"
  }
 },
 "nbformat": 4,
 "nbformat_minor": 0
}